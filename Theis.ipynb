{
 "cells": [
  {
   "cell_type": "markdown",
   "id": "eb507583-4c7a-42f2-a957-556b0e35a2b9",
   "metadata": {},
   "source": [
    "# Theis Pumping Test Analysis"
   ]
  },
  {
   "cell_type": "markdown",
   "id": "cc105bea-1927-4724-9ac8-9541cb436f48",
   "metadata": {},
   "source": [
    "This notebook will solve the equations for pumping test analysis in a confined aquifer. "
   ]
  },
  {
   "cell_type": "markdown",
   "id": "73aacb35-c4cd-4269-9aac-ff65622b4247",
   "metadata": {},
   "source": [
    "After the definition of variables, the value u is computed:"
   ]
  },
  {
   "cell_type": "markdown",
   "id": "3f82d478-6a5f-41af-97c3-a054256d5aa6",
   "metadata": {},
   "source": [
    "$$ u = \\frac{r^2 \\cdot S} {4 T t} $$"
   ]
  },
  {
   "cell_type": "markdown",
   "id": "fc13fb62-299a-4955-842b-94f1cf34cdd3",
   "metadata": {},
   "source": [
    "Python libraries for operating system functions, for numerical computation, for scientific constants and functions, for mathematical functions and for plotting are loaded."
   ]
  },
  {
   "cell_type": "code",
   "execution_count": 323,
   "id": "27bb613e-87d4-4a84-ae8a-2ad36c50e309",
   "metadata": {
    "tags": []
   },
   "outputs": [],
   "source": [
    "import os\n",
    "import numpy\n",
    "import scipy\n",
    "import math\n",
    "import matplotlib.pyplot as plt"
   ]
  },
  {
   "cell_type": "markdown",
   "id": "a0a57114-9bd3-469b-8b89-08819cd60697",
   "metadata": {},
   "source": [
    "The parameters for the pumping test are loaded: $h_=$ is the water level at the start, here 10 m. $Q_p$ is the pumping rate in $\\frac{m^3}{s}$, note per second to stay within SI units (!), $S_s$ is the specific storativity (default is $10^{-4}$), $k_f$ is the hydraulic conductivity in $m/s$, $H_a$ is the aquifer thickness in m, $T_a$ the transmissivity calculated as $H_a \\cdot k_f$. Finally, we define a range of values for the radius from the borehole in m (avoiding the value 0 as the drawdown is not defined at r=0) and we define a time range in seconds (to stay within SI units) from 1 minute (60 seconds) to a full day (86400 seconds). \n",
    "\n",
    "Comments are added with #."
   ]
  },
  {
   "cell_type": "code",
   "execution_count": 428,
   "id": "8377f25d-b180-45fc-8070-a6453766721d",
   "metadata": {
    "tags": []
   },
   "outputs": [],
   "source": [
    "h0 = 10 # water level at start given in meters\n",
    "Qp = 0.02 # pumpint rate in m³/s\n",
    "Ss = 1.4E-4 # specific storage \n",
    "kf = 8E-5 # hydraulic conductivity in m/s\n",
    "Ha = 60 # thickness of the aquifer in m\n",
    "Ta = kf*H # transmissivity\n",
    "rb = numpy.arange(1, 100, 1) # distance from the borehole\n",
    "ts = numpy.arange(60, 86401, 60) # time after start of pumping test"
   ]
  },
  {
   "cell_type": "markdown",
   "id": "f7d810db-1f47-4cff-8715-cd3d7972b012",
   "metadata": {},
   "source": [
    "According to theory, we first calculate $u$. Note, that here we take the element that has the index 20 (the index starts with 0, hence, it is element number 21) for $r_b$ and the element with index 60 of time $t_s$, again the sixty-first (as we start from 0).  "
   ]
  },
  {
   "cell_type": "code",
   "execution_count": 429,
   "id": "220a21ae-873b-48b8-af54-254c0e0f6214",
   "metadata": {
    "tags": []
   },
   "outputs": [],
   "source": [
    "u = rb[20]**2*Ss/(4*Ta*ts[60])"
   ]
  },
  {
   "cell_type": "markdown",
   "id": "2ff4153e-ed5e-47fc-a8b4-c47c749a9d12",
   "metadata": {},
   "source": [
    "After the value of $u$ has been calculated for a given combination of parameters, the value of $u$ is inserted into the well function. Note that the function for the natural logarithm is log2() from the math library and that factorial is calculated with factorial() from the same library:"
   ]
  },
  {
   "cell_type": "markdown",
   "id": "cc021c5e-6edb-4c03-915d-87cfc26c099e",
   "metadata": {},
   "source": [
    "$$ W(u) = -0.5772-ln(u)+u-\\frac{u^2}{2 \\cdot 2!}+\\frac{u^3}{3\\cdot 3!}$$"
   ]
  },
  {
   "cell_type": "markdown",
   "id": "2b3107a4-1f40-4670-b194-4e7260c5b643",
   "metadata": {},
   "source": [
    "In the code, an explicit line break \\ is used."
   ]
  },
  {
   "cell_type": "code",
   "execution_count": 430,
   "id": "da319d2b-f6e4-4d38-b219-cc2641b3821f",
   "metadata": {
    "tags": []
   },
   "outputs": [],
   "source": [
    "wu=-0.5772-math.log2(u)+u \\\n",
    "   -u**2/(2*math.factorial(2)) \\\n",
    "   +u**3/(3*math.factorial(3))"
   ]
  },
  {
   "cell_type": "markdown",
   "id": "d28c885e-807a-4a7f-93fe-aa306586aa3b",
   "metadata": {
    "tags": []
   },
   "source": [
    "Now, the drawdown can be calculated simply by using the function:\n",
    "$$s = \\frac{Q}{4 \\cdot \\pi \\cdot T} \\cdot W(u)$$"
   ]
  },
  {
   "cell_type": "code",
   "execution_count": 431,
   "id": "096230c4-4890-4042-9a69-c8a53125981b",
   "metadata": {
    "tags": []
   },
   "outputs": [],
   "source": [
    "s = Qp/(4*math.pi*Ta)*wu"
   ]
  },
  {
   "cell_type": "markdown",
   "id": "2487c85b-0ae3-4fa6-ab63-1d22a96629e1",
   "metadata": {},
   "source": [
    "Finally, the computed drawdown is abstracted from the initial water level $h_0$."
   ]
  },
  {
   "cell_type": "markdown",
   "id": "0bf728c6-a252-46d9-b9ec-f7599bbc1f2c",
   "metadata": {},
   "source": [
    "$h = h_0-s$"
   ]
  },
  {
   "cell_type": "markdown",
   "id": "12114556-6270-464d-8a80-21ba99e63e32",
   "metadata": {},
   "source": [
    "We will now make the program more modular by introducing functions for the calculation of u (called fu), w (called (fw), s (called fs) and h (falled fh). Finally, all funcions are integrated into a function Theis (called ftheis). Please note that a function is defined with **def**, then the function name that can be any string that is not a python key word or that has not been used before as a variable name. In the brackets, there are the variables needed in the function, please note, some rules. You should keep the order, in which they are listed. When you call the function, you transfer parameters into the function. You can define default values (such as Ha=100) in the definition, if you want, the the variable does not have to be called. If you do so, the variables without default values must come first (like the pumping rate $Q_p$ in the function ftheis(Qp). Since in this function, all other variables have default values, you could call the function with ftheis(0.0138), but you could also call it with ftheis(0.0138,10,100,1E-4,10,1E-4,3600), then the drawdown is given for a pumping rate of 0.0138 m³/s, an initial level of 10 m, an aquifer thickness of 100 m, a hydraulic conductivity of 1E-4, at a distance of 10 m, with a Specific Storativiy of 1E-4 and after 3600 seconds.  \n",
    "\n",
    "Values are explicitely returned with the command **return**."
   ]
  },
  {
   "cell_type": "code",
   "execution_count": 432,
   "id": "884df16f-96a2-4e58-a9ee-57cbc8070dbf",
   "metadata": {
    "tags": []
   },
   "outputs": [],
   "source": [
    "def fu(Ha,kf,rb,Ss,ts):\n",
    "    Ta = Ha*kf\n",
    "    u = rb**2*Ss/(4*Ta*ts)\n",
    "    return u"
   ]
  },
  {
   "cell_type": "code",
   "execution_count": 433,
   "id": "b6dfcbb8-e61c-4af7-9d48-888873a215ee",
   "metadata": {
    "tags": []
   },
   "outputs": [],
   "source": [
    "def fw(u):\n",
    "    w=-0.5772-math.log2(u)+u-u**2/(2*math.factorial(2))+u**3/(3*math.factorial(3))\n",
    "    return w"
   ]
  },
  {
   "cell_type": "code",
   "execution_count": 434,
   "id": "e4887602-8579-48b7-856c-bb2eaf54b57d",
   "metadata": {
    "tags": []
   },
   "outputs": [],
   "source": [
    "def fs(w):\n",
    "    s = Qp/(4*math.pi*Ta)*w\n",
    "    return s"
   ]
  },
  {
   "cell_type": "code",
   "execution_count": 435,
   "id": "2e52a49c-d2fd-4814-b58b-f72dbb3af633",
   "metadata": {
    "tags": []
   },
   "outputs": [],
   "source": [
    "def fh(h0,s):\n",
    "    h = h0-s\n",
    "    return h"
   ]
  },
  {
   "cell_type": "code",
   "execution_count": 436,
   "id": "5ead8c16-adb2-4c42-b138-bdd13a09b208",
   "metadata": {
    "tags": []
   },
   "outputs": [],
   "source": [
    "def ftheis(Qp,h0=0,Ha=100,kf=1E-4,rb=10,Ss=1E-4,ts=3600):\n",
    "    u=fu(Ha,kf,rb,Ss,ts)\n",
    "    w=fw(u)\n",
    "    s=fs(w)\n",
    "    h=fh(h0,s)\n",
    "    return h"
   ]
  },
  {
   "cell_type": "markdown",
   "id": "344e70a3-4a6e-4fcc-9e0e-3075918fbc3d",
   "metadata": {},
   "source": [
    "Finally, we write the code for producing the table that is similar to the Excel file. We measure the length of the array with radii and call it lr, the same for the time. We now initialize empty tables to receive the data. What is new: We also define a counter cr, and ct and initialize it. Now the for-loops are defined, using ri as the i-th element of the array rb and ti as the i-th element of the array ts. Inside the loop, it is checked whether are are within the indices. We use the functions fu, fw, fs, and fh as well as ftheis, that have been defined before. The values u,w,s, and h are assigned to the arrays mu, mw, ms, mh, and mht at the locations given by the indices cr and ct. I used the functions one after the other and I used the integral function ftheis - just one way is necessary. We stop the loop with the command **break** if we should exceed it by any chance. Finally, one we got out of the first loop, we have to reset the counter for the inner for-loop with **ct=0** and we must increment the counter for the outer loop with **cr=cr+1**."
   ]
  },
  {
   "cell_type": "code",
   "execution_count": 437,
   "id": "ee7b9225-72c2-4c1a-94e6-4ece69a7be99",
   "metadata": {
    "tags": []
   },
   "outputs": [],
   "source": [
    "lr = len(rb)\n",
    "lt = len(ts)\n",
    "mu = numpy.zeros((lr,lt), dtype=numpy.float64)\n",
    "mw = numpy.zeros((lr,lt), dtype=numpy.float64)\n",
    "ms = numpy.zeros((lr,lt), dtype=numpy.float64)\n",
    "mh = numpy.zeros((lr,lt), dtype=numpy.float64)\n",
    "mht = numpy.zeros((lr,lt), dtype=numpy.float64)\n",
    "cr = 0\n",
    "ct = 0\n",
    "for ri in rb:\n",
    "    for tj in ts:\n",
    "        if cr <= lr-1 and ct <= lt-1:\n",
    "            u = fu(Ha,kf,ri,Ss,tj)\n",
    "            w = fw(u)\n",
    "            s = fs(w)\n",
    "            h = fh(h0,s)\n",
    "            mu[cr,ct] = u\n",
    "            mw[cr,ct] = w\n",
    "            ms[cr,ct] = s\n",
    "            mh[cr,ct] = h\n",
    "            mht[cr,ct] = ftheis(Qp,h0,Ha,kf,ri,Ss,tj)\n",
    "            ct = ct+1\n",
    "        else: \n",
    "            break # the break command exits the for-loop \n",
    "    ct = 0  # we leave the inner loop and need to reset the counter ct\n",
    "    cr = cr+1 # we increase the counter for the distance cr"
   ]
  },
  {
   "cell_type": "markdown",
   "id": "e49e17cb-d932-49e0-8e2c-b5ef023188df",
   "metadata": {},
   "source": [
    "Finally, we plot the data with the library **matplotlib** that contains a function **pyplot**, that has been imported and labelled with a shorter expression **plt**. We can therefore call the function **plt.plot**, it requires a time series. We plot the water levels in the matrix **mh** at the distance of 10 m (first index i in m[**i**,j], and we use all the times from the first to 1430 with the index range m[10,**1:1439**]. Please note, the times are listed with a time step of 60 seconds, hence, the correspond to minutes. At the location of the index, we find the water level **h**, that has been computed.The graph gets an xlabel and a ylabel and - of course - we shot it. "
   ]
  },
  {
   "cell_type": "code",
   "execution_count": 438,
   "id": "3494f5a8-6eba-4a5c-9834-3804089cdcd4",
   "metadata": {
    "tags": []
   },
   "outputs": [
    {
     "data": {
      "image/png": "[encoded data removed]",
      "text/plain": [
       "<Figure size 640x480 with 1 Axes>"
      ]
     },
     "metadata": {},
     "output_type": "display_data"
    }
   ],
   "source": [
    "plt.plot(mh[10,1:1439])\n",
    "plt.xlim([0,1440])\n",
    "plt.xticks(numpy.arange(0,1440,240), numpy.arange(0, 1440, 240))\n",
    "plt.ylim([0,10])\n",
    "plt.xlabel(\"time in minutes\")\n",
    "plt.ylabel('water level in m')\n",
    "plt.show()"
   ]
  },
  {
   "cell_type": "markdown",
   "id": "0538122b-8d81-49d9-9a54-883a6c49ac7f",
   "metadata": {},
   "source": [
    "In the same manner, the matrix mh (or mth, when the full Theis function ftheis is used, just or testing), can be used to plot the water level at different distances. For this purpose we use a range of the first index in mh[0:100,1439]. The first index i with 0:100 specifies the distances r, the second index j specifies the fixed time: As we increment with steps of 60 seconds when we define the variable ts = arange(60,86400,1439), each increment of the index corresponds to 60 seconds or one minute. At j=1439 we are at 1 day after the start of pumping (please not that the index starts with 0, hence index 1439 corresponds to 1440 minutes = 1 day."
   ]
  },
  {
   "cell_type": "code",
   "execution_count": 439,
   "id": "d6745275-3250-42a1-bf43-c85c5c0f2c05",
   "metadata": {
    "tags": []
   },
   "outputs": [
    {
     "data": {
      "image/png": "[encoded data removed]",
      "text/plain": [
       "<Figure size 640x480 with 1 Axes>"
      ]
     },
     "metadata": {},
     "output_type": "display_data"
    }
   ],
   "source": [
    "plt.plot(mh[0:100,1439])\n",
    "plt.xlim([0,100])\n",
    "plt.xticks(numpy.arange(0,100,10), numpy.arange(0, 100, 10))\n",
    "plt.ylim([0,10])\n",
    "plt.xlabel(\"distance in m\")\n",
    "plt.ylabel('water level in m')\n",
    "plt.show()"
   ]
  },
  {
   "cell_type": "markdown",
   "id": "90ce85a8-598d-41f8-b460-2e2ffd7bb01b",
   "metadata": {},
   "source": [
    "Finally, we try the new function **ftheis()**. First, we call it with only the non-default value for the pumping rate. All other values are set as default. "
   ]
  },
  {
   "cell_type": "code",
   "execution_count": 384,
   "id": "03b7ef7f-6d9e-4f6f-a920-f3322d6fe615",
   "metadata": {
    "tags": []
   },
   "outputs": [
    {
     "data": {
      "text/plain": [
       "-15.800087838405927"
      ]
     },
     "execution_count": 384,
     "metadata": {},
     "output_type": "execute_result"
    }
   ],
   "source": [
    "ftheis(0.01)"
   ]
  },
  {
   "cell_type": "markdown",
   "id": "c3e11324-520c-407a-a840-36d9b2ce7f21",
   "metadata": {},
   "source": [
    "If you want to specify just some (and keep the default values for the others), you must use the variable names and assign values to them. If you do that, you could even mix the variables of the function."
   ]
  },
  {
   "cell_type": "code",
   "execution_count": 385,
   "id": "65cca84d-63ea-4221-9f4e-173ea9eb4566",
   "metadata": {
    "tags": []
   },
   "outputs": [
    {
     "data": {
      "text/plain": [
       "-18.571619028767373"
      ]
     },
     "execution_count": 385,
     "metadata": {},
     "output_type": "execute_result"
    }
   ],
   "source": [
    "ftheis(0.01, kf=0.001, Ha=50)"
   ]
  },
  {
   "cell_type": "markdown",
   "id": "73790390-164b-4064-beec-217be93da6be",
   "metadata": {},
   "source": [
    "Finally, you can try to specify all other variables. Or you use all variables in the right order without their names, or you need to assign all variable names."
   ]
  },
  {
   "cell_type": "code",
   "execution_count": 386,
   "id": "02965b5e-e6f1-4c28-99ad-edb748b68ba7",
   "metadata": {
    "tags": []
   },
   "outputs": [
    {
     "data": {
      "text/plain": [
       "2.3786358870470363"
      ]
     },
     "execution_count": 386,
     "metadata": {},
     "output_type": "execute_result"
    }
   ],
   "source": [
    "ftheis(0.01,h0=6,Ha=50,kf=1E-5,rb=50,Ss=1E-4,ts=1440)"
   ]
  }
 ],
 "metadata": {
  "kernelspec": {
   "display_name": "Python 3 (ipykernel)",
   "language": "python",
   "name": "python3"
  },
  "language_info": {
   "codemirror_mode": {
    "name": "ipython",
    "version": 3
   },
   "file_extension": ".py",
   "mimetype": "text/x-python",
   "name": "python",
   "nbconvert_exporter": "python",
   "pygments_lexer": "ipython3",
   "version": "3.11.5"
  }
 },
 "nbformat": 4,
 "nbformat_minor": 5
}
